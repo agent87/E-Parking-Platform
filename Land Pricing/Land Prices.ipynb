{
 "cells": [
  {
   "cell_type": "code",
   "execution_count": 9,
   "id": "e51d648f",
   "metadata": {},
   "outputs": [],
   "source": [
    "import PyPDF4\n",
    "import tabula\n",
    "import os"
   ]
  },
  {
   "cell_type": "code",
   "execution_count": 39,
   "id": "d0366e61",
   "metadata": {},
   "outputs": [],
   "source": [
    "dict_content = {'Bugesera ': ' 331',\n",
    " 'Burera ': ' 494',\n",
    " 'Gakenke ': ' 520',\n",
    " 'Gasabo': '1',\n",
    " 'Gatsibo ': ' 355',\n",
    " 'Gicumbi ': ' 548',\n",
    " 'Gisagara ': ' 618',\n",
    " 'Huye ': ' 640',\n",
    " 'Kamonyi ': ' 659',\n",
    " 'Karongi ': ' 768',\n",
    " 'Kayonza ': ' 381',\n",
    " 'Kicukiro': '  97',\n",
    " 'Kirehe ': ' 400',\n",
    " 'Muhanga ': ' 674',\n",
    " 'Musanze ': ' 578',\n",
    " 'Ngoma ': ' 426',\n",
    " 'Ngororero ': ' 792',\n",
    " 'Nyabihu ': ' 811',\n",
    " 'Nyagatare ': ' 447',\n",
    " 'Nyamagabe ': ' 687',\n",
    " 'Nyamasheke ': ' 833',\n",
    " 'Nyanza ': ' 712',\n",
    " 'Nyarugenge ': ' 152',\n",
    " 'Nyaruguru': ' 730',\n",
    " 'Rubavu ': ' 858',\n",
    " 'Ruhango ': ' 746',\n",
    " 'Rulindo ': ' 596',\n",
    " 'Rusizi ': ' 874',\n",
    " 'Rutsiro ': ' 896',\n",
    " 'Rwamagana ': ' 474',\n",
    " 'Urban Huye ': ' 199',\n",
    " 'Urban Muhanga ': ' 206',\n",
    " 'Urban Musanze ': ' 225',\n",
    " 'Urban Nyagatare ': ' 244',\n",
    " 'Urban Rubavu ': ' 251'}"
   ]
  },
  {
   "cell_type": "code",
   "execution_count": 35,
   "id": "87ffd76f",
   "metadata": {},
   "outputs": [],
   "source": [
    "for item in content:\n",
    "    dict_content[item[:-4]] = item[-4:]"
   ]
  },
  {
   "cell_type": "code",
   "execution_count": 36,
   "id": "e2edbaba",
   "metadata": {},
   "outputs": [
    {
     "data": {
      "text/plain": [
       "{'Bugesera ': ' 331',\n",
       " 'Burera ': ' 494',\n",
       " 'Gakenke ': ' 520',\n",
       " 'Gasab': 'o  1',\n",
       " 'Gatsibo ': ' 355',\n",
       " 'Gicumbi ': ' 548',\n",
       " 'Gisagara ': ' 618',\n",
       " 'Huye ': ' 640',\n",
       " 'Kamonyi ': ' 659',\n",
       " 'Karongi ': ' 768',\n",
       " 'Kayonza ': ' 381',\n",
       " 'Kicukiro': '  97',\n",
       " 'Kigal': 'i  1',\n",
       " 'Kirehe ': ' 400',\n",
       " 'Muhanga ': ' 674',\n",
       " 'Musanze ': ' 578',\n",
       " 'Ngoma ': ' 426',\n",
       " 'Ngororero ': ' 792',\n",
       " 'Northern Province ': ' 494',\n",
       " 'Nyabihu ': ' 811',\n",
       " 'Nyagatare ': ' 447',\n",
       " 'Nyamagabe ': ' 687',\n",
       " 'Nyamasheke ': ' 833',\n",
       " 'Nyanza ': ' 712',\n",
       " 'Nyarugenge ': ' 152',\n",
       " 'Nyaruguru': ' 730',\n",
       " 'Rubavu ': ' 858',\n",
       " 'Ruhango ': ' 746',\n",
       " 'Rulindo ': ' 596',\n",
       " 'Rusizi ': ' 874',\n",
       " 'Rutsiro ': ' 896',\n",
       " 'Rwamagana ': ' 474',\n",
       " 'Secondary Cities (Urban Parts) ': ' 199',\n",
       " 'Southern Province ': ' 618',\n",
       " 'URBAN LAND VALUE': 'S  1',\n",
       " 'Urban Huye ': ' 199',\n",
       " 'Urban Muhanga ': ' 206',\n",
       " 'Urban Musanze ': ' 225',\n",
       " 'Urban Nyagatare ': ' 244',\n",
       " 'Urban Rubavu ': ' 251',\n",
       " 'Western Province ': ' 768'}"
      ]
     },
     "execution_count": 36,
     "metadata": {},
     "output_type": "execute_result"
    }
   ],
   "source": [
    "dict_content"
   ]
  },
  {
   "cell_type": "code",
   "execution_count": null,
   "id": "8a3cd28f",
   "metadata": {},
   "outputs": [],
   "source": []
  },
  {
   "cell_type": "code",
   "execution_count": 3,
   "id": "9829dc37",
   "metadata": {},
   "outputs": [],
   "source": [
    "pdf = PyPDF4.PdfFileReader('prices.pdf')"
   ]
  },
  {
   "cell_type": "code",
   "execution_count": 10,
   "id": "951de52f",
   "metadata": {},
   "outputs": [
    {
     "data": {
      "text/plain": [
       "'C:\\\\Users\\\\Arnaud\\\\Desktop\\\\Sources\\\\Parking-DashboardV2.0\\\\Land Pricing'"
      ]
     },
     "execution_count": 10,
     "metadata": {},
     "output_type": "execute_result"
    }
   ],
   "source": [
    "os.getcwd()"
   ]
  },
  {
   "cell_type": "code",
   "execution_count": 6,
   "id": "91141351",
   "metadata": {},
   "outputs": [],
   "source": [
    "pdf_writer = PyPDF4.PdfFileWriter()\n",
    "for page in range(2,4):\n",
    "    pdf_writer.addPage(pdf.getPage(page))"
   ]
  },
  {
   "cell_type": "code",
   "execution_count": 7,
   "id": "7ce69550",
   "metadata": {},
   "outputs": [
    {
     "data": {
      "text/plain": [
       "2"
      ]
     },
     "execution_count": 7,
     "metadata": {},
     "output_type": "execute_result"
    }
   ],
   "source": [
    "pdf_writer.getNumPages()"
   ]
  },
  {
   "cell_type": "code",
   "execution_count": 11,
   "id": "5e133856",
   "metadata": {},
   "outputs": [],
   "source": [
    "output = f'content.pdf'\n",
    "with open(output, 'wb') as output_pdf:\n",
    "    pdf_writer.write(output_pdf)"
   ]
  },
  {
   "cell_type": "code",
   "execution_count": 12,
   "id": "e9f76b21",
   "metadata": {},
   "outputs": [],
   "source": [
    "tables = tabula.read_pdf(\"content.pdf\", pages=\"all\")"
   ]
  },
  {
   "cell_type": "code",
   "execution_count": 16,
   "id": "f694c73b",
   "metadata": {},
   "outputs": [],
   "source": []
  },
  {
   "cell_type": "code",
   "execution_count": 18,
   "id": "1c7bb30e",
   "metadata": {},
   "outputs": [],
   "source": []
  },
  {
   "cell_type": "code",
   "execution_count": 45,
   "id": "1997fed8",
   "metadata": {},
   "outputs": [
    {
     "data": {
      "text/plain": [
       "96"
      ]
     },
     "execution_count": 45,
     "metadata": {},
     "output_type": "execute_result"
    }
   ],
   "source": [
    "len(tables)"
   ]
  }
 ],
 "metadata": {
  "kernelspec": {
   "display_name": "Python 3",
   "language": "python",
   "name": "python3"
  },
  "language_info": {
   "codemirror_mode": {
    "name": "ipython",
    "version": 3
   },
   "file_extension": ".py",
   "mimetype": "text/x-python",
   "name": "python",
   "nbconvert_exporter": "python",
   "pygments_lexer": "ipython3",
   "version": "3.8.8"
  }
 },
 "nbformat": 4,
 "nbformat_minor": 5
}
